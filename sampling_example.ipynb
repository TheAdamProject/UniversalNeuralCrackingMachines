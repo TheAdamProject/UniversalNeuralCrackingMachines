{
 "cells": [
  {
   "cell_type": "markdown",
   "metadata": {},
   "source": [
    "# Setup\n",
    "Ensure you have downloaded the pre-trained models as outlined in the \"Compute guess numbers on plaintext passwords\" section before proceeding."
   ]
  },
  {
   "cell_type": "code",
   "execution_count": null,
   "metadata": {},
   "outputs": [],
   "source": [
    "import os\n",
    "os.environ['CUDA_VISIBLE_DEVICES'] = '0'\n",
    "\n",
    "import sys, importlib, pprint\n",
    "import tensorflow as tf\n",
    "import numpy as np\n",
    "\n",
    "import UNCM\n",
    "from input_pipeline import make_dataset\n",
    "from tester import Tester\n",
    "from inference import ancestral_sampling\n",
    "\n",
    "\n",
    "setup_module = 'configs.UNCM_medium_8096con_2048pm'\n",
    "name_run = 'UNCM_medium_8096con_2048pm'\n",
    "\n",
    "setup = importlib.import_module(setup_module)\n",
    "hparams = setup.hparams  \n",
    "\n",
    "number_of_samples = 1024\n",
    "batch_size = 1024\n",
    "k = 50\n",
    "\n",
    "input_fn = UNCM.make_get_input_tensors(hparams)\n",
    "\n",
    "# load pre-trained UNCM\n",
    "uncm = UNCM.import_models(hparams, name_run)\n",
    "conf_encoder_uncm, cpassmodel_uncm = uncm\n",
    "\n",
    "t = Tester(conf_encoder_uncm, cpassmodel_uncm, input_fn, hparams)\n",
    "\n",
    "# utility function\n",
    "def show_top_k_passwords(k, X, P):\n",
    "    P = np.round(P, 5)\n",
    "    XP = set(zip(X, P))\n",
    "    X = [x for x in X if x]\n",
    "    samples = sorted(XP, key=lambda x: -x[1])\n",
    "    return samples[:k]"
   ]
  },
  {
   "cell_type": "markdown",
   "metadata": {},
   "source": [
    "# Example of how the configuration seed affects the password model prediction\n",
    "\n",
    "Given a pre-trained UNCM, we generate passwords using 3 different (pre-computed) configuration seeds. Outputs are in the format (password, probability).\n",
    "\n",
    "(Note: in the examples, we sample only a limited number of passwords for efficiency. Thus, the reported strings are not the top-k passwords for the distribution, but just a quick estimation.)"
   ]
  },
  {
   "cell_type": "markdown",
   "metadata": {},
   "source": [
    "## Generate passwords from Italian seed"
   ]
  },
  {
   "cell_type": "code",
   "execution_count": 2,
   "metadata": {},
   "outputs": [
    {
     "name": "stderr",
     "output_type": "stream",
     "text": [
      "100%|██████████| 1/1 [00:04<00:00,  4.39s/it]\n"
     ]
    },
    {
     "data": {
      "text/plain": [
       "[('123456', 0.00312),\n",
       " ('123456789', 0.00097),\n",
       " ('silvia', 0.00049),\n",
       " ('andrea', 0.00044),\n",
       " ('giovanni', 0.00039),\n",
       " ('stefano', 0.00036),\n",
       " ('stellina', 0.00032),\n",
       " ('principessa', 0.00028),\n",
       " ('massimiliano', 0.00028),\n",
       " ('simona', 0.00028),\n",
       " ('federottica', 0.00026),\n",
       " ('vincenzo', 0.00023),\n",
       " ('paperino', 0.00021),\n",
       " ('martina', 0.00021),\n",
       " ('lorenzo', 0.00021),\n",
       " ('arturo', 0.0002),\n",
       " ('matteo', 0.00019),\n",
       " ('poiuyt', 0.00019),\n",
       " ('654321', 0.00016),\n",
       " ('libero', 0.00015),\n",
       " ('11111111', 0.00015),\n",
       " ('domenico', 0.00014),\n",
       " ('valentino', 0.00014),\n",
       " ('aurora', 0.00014),\n",
       " ('emanuele', 0.00014),\n",
       " ('101010', 0.00013),\n",
       " ('emanuela', 0.00013),\n",
       " ('massimo', 0.00013),\n",
       " ('marina', 0.00013),\n",
       " ('alberto', 0.00013),\n",
       " ('maurizio', 0.00012),\n",
       " ('alfaromeo', 0.00012),\n",
       " ('1q2w3e4r', 0.00012),\n",
       " ('barbara', 0.00011),\n",
       " ('giorgia', 0.00011),\n",
       " ('briciola', 0.00011),\n",
       " ('coccinella', 0.00011),\n",
       " ('caramella', 0.00011),\n",
       " ('nerina', 0.0001),\n",
       " ('natale', 0.0001),\n",
       " ('annamaria', 9e-05),\n",
       " ('patatina', 9e-05),\n",
       " ('antares', 9e-05),\n",
       " ('555555', 9e-05),\n",
       " ('adriana', 9e-05),\n",
       " ('999999', 8e-05),\n",
       " ('indiana', 7e-05),\n",
       " ('claudio', 7e-05),\n",
       " ('102030', 7e-05),\n",
       " ('ronaldo', 7e-05)]"
      ]
     },
     "execution_count": 2,
     "metadata": {},
     "output_type": "execute_result"
    }
   ],
   "source": [
    "seed_path = 'examples/example_seeds/tv.zam.it_seed.npy'\n",
    "seed = np.load(seed_path)\n",
    "\n",
    "X, P = ancestral_sampling(number_of_samples, cpassmodel_uncm, batch_size, hparams, True, seed=seed)\n",
    "show_top_k_passwords(k, X, P)"
   ]
  },
  {
   "cell_type": "markdown",
   "metadata": {},
   "source": [
    "## Generate passwords from Japanese seed"
   ]
  },
  {
   "cell_type": "code",
   "execution_count": 4,
   "metadata": {},
   "outputs": [
    {
     "name": "stderr",
     "output_type": "stream",
     "text": [
      "100%|█████████████████████████████████████████████████████████████████████████████████████████████████████████████████████████████████████████████████████████████████████████| 1/1 [00:03<00:00,  3.65s/it]\n"
     ]
    },
    {
     "data": {
      "text/plain": [
       "[('xxxxxx', 0.00092),\n",
       " ('makoto', 0.00021),\n",
       " ('tomato', 0.00014),\n",
       " ('111111', 0.00014),\n",
       " ('1qaz2wsx', 0.00013),\n",
       " ('takako', 8e-05),\n",
       " ('kazuki', 7e-05),\n",
       " ('momoko', 7e-05),\n",
       " ('mariko', 7e-05),\n",
       " ('suzuki', 7e-05),\n",
       " ('tomotomo', 7e-05),\n",
       " ('999999', 6e-05),\n",
       " ('momotaro', 5e-05),\n",
       " ('mikamika', 5e-05),\n",
       " ('kurumi', 5e-05),\n",
       " ('222222', 5e-05),\n",
       " ('peterpan', 4e-05),\n",
       " ('dondon', 4e-05),\n",
       " ('arashi', 4e-05),\n",
       " ('subaru', 4e-05),\n",
       " ('sasuke', 4e-05),\n",
       " ('kazunori', 3e-05),\n",
       " ('tennis', 3e-05),\n",
       " ('sakusaku', 2e-05),\n",
       " ('paradise', 2e-05),\n",
       " ('kurakura', 2e-05),\n",
       " ('tantan', 2e-05),\n",
       " ('mihomiho', 2e-05),\n",
       " ('yokoyama', 2e-05),\n",
       " ('energy', 2e-05),\n",
       " ('momotarou', 1e-05),\n",
       " ('nextage', 1e-05),\n",
       " ('31415926', 1e-05),\n",
       " ('france', 1e-05),\n",
       " ('kurata', 1e-05),\n",
       " ('koharu', 1e-05),\n",
       " ('hiro21', 1e-05),\n",
       " ('kamata', 1e-05),\n",
       " ('triangle', 1e-05),\n",
       " ('ponponpon', 1e-05),\n",
       " ('maxwell', 1e-05),\n",
       " ('lmf0720', 0.0),\n",
       " ('xfkeim18', 0.0),\n",
       " ('micl30', 0.0),\n",
       " ('floyd59', 0.0),\n",
       " ('funailaw', 0.0),\n",
       " ('hikamiwa', 0.0),\n",
       " ('22762277', 0.0),\n",
       " ('nd7k0U', 0.0),\n",
       " ('6pa40dfg', 0.0)]"
      ]
     },
     "execution_count": 4,
     "metadata": {},
     "output_type": "execute_result"
    }
   ],
   "source": [
    "seed_path = 'examples/example_seeds/tokyo_town_sns.go2.jp_seed.npy'\n",
    "seed = np.load(seed_path)\n",
    "\n",
    "X, P = ancestral_sampling(number_of_samples, cpassmodel_uncm, batch_size, hparams, True, seed=seed)\n",
    "show_top_k_passwords(k, X, P)"
   ]
  },
  {
   "cell_type": "markdown",
   "metadata": {},
   "source": [
    "## Generate passwords from French seed"
   ]
  },
  {
   "cell_type": "code",
   "execution_count": 5,
   "metadata": {},
   "outputs": [
    {
     "name": "stderr",
     "output_type": "stream",
     "text": [
      "100%|█████████████████████████████████████████████████████████████████████████████████████████████████████████████████████████████████████████████████████████████████████████| 1/1 [00:03<00:00,  3.64s/it]\n"
     ]
    },
    {
     "data": {
      "text/plain": [
       "[('poiuyt', 0.00071),\n",
       " ('soleil', 0.00043),\n",
       " ('chouchou', 0.00041),\n",
       " ('chocolat', 0.00036),\n",
       " ('alexandre', 0.00033),\n",
       " ('arthur', 0.00032),\n",
       " ('nicolas', 0.00031),\n",
       " ('doudou', 0.0003),\n",
       " ('juliette', 0.00029),\n",
       " ('motdepasse', 0.00027),\n",
       " ('000000', 0.00021),\n",
       " ('123456789', 0.00018),\n",
       " ('thierry', 0.00017),\n",
       " ('princesse', 0.00016),\n",
       " ('grenouille', 0.00014),\n",
       " ('france', 0.00014),\n",
       " ('amelie', 0.00014),\n",
       " ('anubis', 0.00014),\n",
       " ('louise', 0.00014),\n",
       " ('didier', 0.00013),\n",
       " ('nikita', 0.00013),\n",
       " ('antoine', 0.00012),\n",
       " ('mathis', 0.00012),\n",
       " ('aurore', 0.00011),\n",
       " ('mathieu', 0.00011),\n",
       " ('toulouse', 0.00011),\n",
       " ('mickey', 0.00011),\n",
       " ('fanfan', 0.0001),\n",
       " ('tomato', 0.0001),\n",
       " ('charline', 0.0001),\n",
       " ('canaille', 0.0001),\n",
       " ('megane', 9e-05),\n",
       " ('souris', 9e-05),\n",
       " ('indiana', 8e-05),\n",
       " ('renard', 8e-05),\n",
       " ('jeremy', 8e-05),\n",
       " ('beatrice', 7e-05),\n",
       " ('sylvain', 7e-05),\n",
       " ('biloute', 7e-05),\n",
       " ('poupou', 7e-05),\n",
       " ('cinema', 7e-05),\n",
       " ('liberte', 7e-05),\n",
       " ('pascal', 7e-05),\n",
       " ('novembre', 6e-05),\n",
       " ('mimine', 6e-05),\n",
       " ('jocelyne', 6e-05),\n",
       " ('espagne', 6e-05),\n",
       " ('roland', 6e-05),\n",
       " ('orchidee', 5e-05),\n",
       " ('bichon', 5e-05)]"
      ]
     },
     "execution_count": 5,
     "metadata": {},
     "output_type": "execute_result"
    }
   ],
   "source": [
    "seed_path = 'examples/example_seeds/connectic.fr_seed.npy'\n",
    "seed = np.load(seed_path)\n",
    "\n",
    "X, P = ancestral_sampling(number_of_samples, cpassmodel_uncm, batch_size, hparams, True, seed=seed)\n",
    "show_top_k_passwords(k, X, P)"
   ]
  },
  {
   "cell_type": "markdown",
   "metadata": {},
   "source": [
    "# Load and generate passwords with baseline model (i.e., non-conditional password model) "
   ]
  },
  {
   "cell_type": "code",
   "execution_count": 3,
   "metadata": {},
   "outputs": [
    {
     "name": "stdout",
     "output_type": "stream",
     "text": [
      "WARNING:tensorflow:No training configuration found in the save file, so the model was *not* compiled. Compile it manually.\n"
     ]
    }
   ],
   "source": [
    "setup_module = 'configs.baseline'\n",
    "name_run = 'baseline'\n",
    "\n",
    "setup = importlib.import_module(setup_module)\n",
    "hparams_baseline = setup.hparams  \n",
    "\n",
    "input_fn = UNCM.make_get_input_tensors(hparams_baseline)\n",
    "\n",
    "# load pre-trained UNCM\n",
    "_, passmodel_baseline = UNCM.import_models(hparams_baseline, name_run)\n",
    "\n",
    "t_baseline = Tester(None, passmodel_baseline, input_fn, hparams_baseline)"
   ]
  },
  {
   "cell_type": "code",
   "execution_count": 10,
   "metadata": {},
   "outputs": [
    {
     "name": "stderr",
     "output_type": "stream",
     "text": [
      "100%|██████████| 1/1 [00:03<00:00,  3.56s/it]\n"
     ]
    },
    {
     "data": {
      "text/plain": [
       "[('123456', 0.00397),\n",
       " ('super123', 0.00348),\n",
       " ('123456789', 0.00122),\n",
       " ('tt1234567', 0.00098),\n",
       " ('qwerty', 0.00049),\n",
       " ('password', 0.00027),\n",
       " ('1234567', 0.00025),\n",
       " ('qazwsx', 0.00012),\n",
       " ('daniel', 0.0001),\n",
       " ('ferrari', 9e-05),\n",
       " ('333333', 7e-05),\n",
       " ('master', 6e-05),\n",
       " ('freedom', 6e-05),\n",
       " ('samsung', 6e-05),\n",
       " ('qwerty12', 5e-05),\n",
       " ('monkey', 4e-05),\n",
       " ('naruto', 4e-05),\n",
       " ('george', 4e-05),\n",
       " ('888888', 4e-05),\n",
       " ('giulia', 3e-05),\n",
       " ('1q2w3e4r5t', 3e-05),\n",
       " ('dallas', 3e-05),\n",
       " ('simona', 3e-05),\n",
       " ('felipe', 3e-05),\n",
       " ('boubou', 3e-05),\n",
       " ('matrix', 3e-05),\n",
       " ('francis', 3e-05),\n",
       " ('carolina', 3e-05),\n",
       " ('147852', 3e-05),\n",
       " ('ginger', 3e-05),\n",
       " ('friends', 2e-05),\n",
       " ('passw0rd', 2e-05),\n",
       " ('goodluck', 2e-05),\n",
       " ('1234554321', 2e-05),\n",
       " ('benoit', 2e-05),\n",
       " ('prasanna', 1e-05),\n",
       " ('yankees', 1e-05),\n",
       " ('virgil', 1e-05),\n",
       " ('primavera', 1e-05),\n",
       " ('green123', 1e-05),\n",
       " ('jamaica', 1e-05),\n",
       " ('love12345', 1e-05),\n",
       " ('tyrone', 1e-05),\n",
       " ('123456654321', 1e-05),\n",
       " ('1123581321', 1e-05),\n",
       " ('champagne', 1e-05),\n",
       " ('maurice', 1e-05),\n",
       " ('helloo', 1e-05),\n",
       " ('souris', 1e-05),\n",
       " ('liliana', 1e-05)]"
      ]
     },
     "execution_count": 10,
     "metadata": {},
     "output_type": "execute_result"
    }
   ],
   "source": [
    "X, P = ancestral_sampling(number_of_samples, passmodel_baseline, batch_size, hparams_baseline, True, seed=None)\n",
    "show_top_k_passwords(k, X, P)"
   ]
  },
  {
   "cell_type": "code",
   "execution_count": null,
   "metadata": {},
   "outputs": [],
   "source": []
  }
 ],
 "metadata": {
  "kernelspec": {
   "display_name": "Python 3",
   "language": "python",
   "name": "python3"
  },
  "language_info": {
   "codemirror_mode": {
    "name": "ipython",
    "version": 3
   },
   "file_extension": ".py",
   "mimetype": "text/x-python",
   "name": "python",
   "nbconvert_exporter": "python",
   "pygments_lexer": "ipython3",
   "version": "3.7.4"
  }
 },
 "nbformat": 4,
 "nbformat_minor": 4
}
