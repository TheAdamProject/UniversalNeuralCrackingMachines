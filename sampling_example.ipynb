{
 "cells": [
  {
   "cell_type": "markdown",
   "metadata": {},
   "source": [
    "# Setup\n",
    "[Required] Download the pre-trained models and put it in: './keras_models'.\n",
    "You should have something like this:\n",
    "```\n",
    "keras_models\n",
    "├── baseline\n",
    "│   └── password_model.h5\n",
    "├── UNCM_medium\n",
    "│   ├── conf_encoder.h5\n",
    "│   └── password_model.h5\n",
    "└── UNCM_medium_8096con_2048pm\n",
    "    ├── conf_encoder.h5\n",
    "    └── password_model.h5\n",
    "```"
   ]
  },
  {
   "cell_type": "code",
   "execution_count": 1,
   "metadata": {},
   "outputs": [
    {
     "name": "stdout",
     "output_type": "stream",
     "text": [
      "WARNING:tensorflow:No training configuration found in the save file, so the model was *not* compiled. Compile it manually.\n",
      "WARNING:tensorflow:No training configuration found in the save file, so the model was *not* compiled. Compile it manually.\n"
     ]
    }
   ],
   "source": [
    "import sys, importlib, pprint\n",
    "import tensorflow as tf\n",
    "import numpy as np\n",
    "\n",
    "from input_pipeline import make_dataset\n",
    "from tester import Tester\n",
    "from inference import ancestral_sampling\n",
    "\n",
    "\n",
    "setup_module = 'confings.UNCM_medium_8096con_2048pm'\n",
    "name_run = 'UNCM_medium_8096con_2048pm'\n",
    "\n",
    "setup = importlib.import_module(setup_module)\n",
    "hparams = setup.hparams  \n",
    "\n",
    "number_of_samples = 1024\n",
    "batch_size = 1024\n",
    "k = 50\n",
    "\n",
    "input_fn =  hparams['model_class'].make_get_input_tensors(hparams)\n",
    "\n",
    "# load pre-trained UNCM\n",
    "uncm = hparams['model_class'].import_models(hparams, name_run)\n",
    "conf_encoder_uncm, cpassmodel_uncm = uncm\n",
    "\n",
    "t = Tester(conf_encoder_uncm, cpassmodel_uncm, input_fn, hparams)\n",
    "\n",
    "# utility function\n",
    "def show_top_k_passwords(k, X, P):\n",
    "    P = np.round(P, 5)\n",
    "    XP = set(zip(X, P))\n",
    "    X = [x for x in X if x]\n",
    "    samples = sorted(XP, key=lambda x: -x[1])\n",
    "    return samples[:k]"
   ]
  },
  {
   "cell_type": "markdown",
   "metadata": {},
   "source": [
    "# Example of how the configuration seed affects the password model prediction\n",
    "\n",
    "Given a pre-trained UNCM, we generate passwords using 3 different (pre-computed) configuration seeds. Outputs are in the format (password, probability).\n",
    "\n",
    "(Note: in the examples, we sample only a limited number of passwords for efficiency. Thus, the reported strings are not the top-k passwords for the distribution, but just a quick estimation.)"
   ]
  },
  {
   "cell_type": "markdown",
   "metadata": {},
   "source": [
    "## Generate passwords from Italian seed"
   ]
  },
  {
   "cell_type": "code",
   "execution_count": 2,
   "metadata": {},
   "outputs": [
    {
     "name": "stderr",
     "output_type": "stream",
     "text": [
      "100%|██████████| 1/1 [05:14<00:00, 314.50s/it]\n"
     ]
    },
    {
     "data": {
      "text/plain": [
       "[('123456', 0.00312),\n",
       " ('123456789', 0.00097),\n",
       " ('111111', 0.00048),\n",
       " ('12345678', 0.00044),\n",
       " ('stefano', 0.00036),\n",
       " ('stellina', 0.00032),\n",
       " ('roberto', 0.00032),\n",
       " ('gabriele', 0.00032),\n",
       " ('francesco', 0.00029),\n",
       " ('massimiliano', 0.00028),\n",
       " ('raffaele', 0.00027),\n",
       " ('michele', 0.00026),\n",
       " ('password', 0.00023),\n",
       " ('giulia', 0.00023),\n",
       " ('valeria', 0.00022),\n",
       " ('claudia', 0.00021),\n",
       " ('chiara', 0.00021),\n",
       " ('martina', 0.00021),\n",
       " ('giorgio', 0.00018),\n",
       " ('carlotta', 0.00015),\n",
       " ('sergio', 0.00015),\n",
       " ('manuela', 0.00015),\n",
       " ('tartaruga', 0.00014),\n",
       " ('pallina', 0.00014),\n",
       " ('topolino', 0.00014),\n",
       " ('ginevra', 0.00014),\n",
       " ('rosaria', 0.00013),\n",
       " ('ilaria', 0.00012),\n",
       " ('alfaromeo', 0.00012),\n",
       " ('carmen', 0.00012),\n",
       " ('1q2w3e4r', 0.00012),\n",
       " ('vittoria', 0.00012),\n",
       " ('forzajuve', 0.00012),\n",
       " ('girasole', 0.00011),\n",
       " ('floria', 0.00011),\n",
       " ('rossella', 0.0001),\n",
       " ('anubis', 0.0001),\n",
       " ('internet', 0.0001),\n",
       " ('parigi', 0.0001),\n",
       " ('7777777', 9e-05),\n",
       " ('555555', 9e-05),\n",
       " ('febbraio', 9e-05),\n",
       " ('marilena', 9e-05),\n",
       " ('antonella', 9e-05),\n",
       " ('umberto', 8e-05),\n",
       " ('consulting', 8e-05),\n",
       " ('102030', 7e-05),\n",
       " ('trustno1', 7e-05),\n",
       " ('marlboro', 6e-05),\n",
       " ('q1w2e3r4', 6e-05)]"
      ]
     },
     "execution_count": 2,
     "metadata": {},
     "output_type": "execute_result"
    }
   ],
   "source": [
    "seed_path = 'examples/example_seeds/tv.zam.it_seed.npy'\n",
    "seed = np.load(seed_path)\n",
    "\n",
    "X, P = ancestral_sampling(number_of_samples, cpassmodel_uncm, batch_size, hparams, True, seed=seed)\n",
    "show_top_k_passwords(k, X, P)"
   ]
  },
  {
   "cell_type": "markdown",
   "metadata": {},
   "source": [
    "## Generate passwords from Japanese seed"
   ]
  },
  {
   "cell_type": "code",
   "execution_count": 4,
   "metadata": {},
   "outputs": [
    {
     "name": "stderr",
     "output_type": "stream",
     "text": [
      "100%|█████████████████████████████████████████████████████████████████████████████████████████████████████████████████████████████████████████████████████████████████████████| 1/1 [00:03<00:00,  3.65s/it]\n"
     ]
    },
    {
     "data": {
      "text/plain": [
       "[('xxxxxx', 0.00092),\n",
       " ('makoto', 0.00021),\n",
       " ('tomato', 0.00014),\n",
       " ('111111', 0.00014),\n",
       " ('1qaz2wsx', 0.00013),\n",
       " ('takako', 8e-05),\n",
       " ('kazuki', 7e-05),\n",
       " ('momoko', 7e-05),\n",
       " ('mariko', 7e-05),\n",
       " ('suzuki', 7e-05),\n",
       " ('tomotomo', 7e-05),\n",
       " ('999999', 6e-05),\n",
       " ('momotaro', 5e-05),\n",
       " ('mikamika', 5e-05),\n",
       " ('kurumi', 5e-05),\n",
       " ('222222', 5e-05),\n",
       " ('peterpan', 4e-05),\n",
       " ('dondon', 4e-05),\n",
       " ('arashi', 4e-05),\n",
       " ('subaru', 4e-05),\n",
       " ('sasuke', 4e-05),\n",
       " ('kazunori', 3e-05),\n",
       " ('tennis', 3e-05),\n",
       " ('sakusaku', 2e-05),\n",
       " ('paradise', 2e-05),\n",
       " ('kurakura', 2e-05),\n",
       " ('tantan', 2e-05),\n",
       " ('mihomiho', 2e-05),\n",
       " ('yokoyama', 2e-05),\n",
       " ('energy', 2e-05),\n",
       " ('momotarou', 1e-05),\n",
       " ('nextage', 1e-05),\n",
       " ('31415926', 1e-05),\n",
       " ('france', 1e-05),\n",
       " ('kurata', 1e-05),\n",
       " ('koharu', 1e-05),\n",
       " ('hiro21', 1e-05),\n",
       " ('kamata', 1e-05),\n",
       " ('triangle', 1e-05),\n",
       " ('ponponpon', 1e-05),\n",
       " ('maxwell', 1e-05),\n",
       " ('lmf0720', 0.0),\n",
       " ('xfkeim18', 0.0),\n",
       " ('micl30', 0.0),\n",
       " ('floyd59', 0.0),\n",
       " ('funailaw', 0.0),\n",
       " ('hikamiwa', 0.0),\n",
       " ('22762277', 0.0),\n",
       " ('nd7k0U', 0.0),\n",
       " ('6pa40dfg', 0.0)]"
      ]
     },
     "execution_count": 4,
     "metadata": {},
     "output_type": "execute_result"
    }
   ],
   "source": [
    "seed_path = 'examples/example_seeds/tokyo_town_sns.go2.jp_seed.npy'\n",
    "seed = np.load(seed_path)\n",
    "\n",
    "X, P = ancestral_sampling(number_of_samples, cpassmodel_uncm, batch_size, hparams, True, seed=seed)\n",
    "show_top_k_passwords(k, X, P)"
   ]
  },
  {
   "cell_type": "markdown",
   "metadata": {},
   "source": [
    "## Generate passwords from French seed"
   ]
  },
  {
   "cell_type": "code",
   "execution_count": 5,
   "metadata": {},
   "outputs": [
    {
     "name": "stderr",
     "output_type": "stream",
     "text": [
      "100%|█████████████████████████████████████████████████████████████████████████████████████████████████████████████████████████████████████████████████████████████████████████| 1/1 [00:03<00:00,  3.64s/it]\n"
     ]
    },
    {
     "data": {
      "text/plain": [
       "[('poiuyt', 0.00071),\n",
       " ('soleil', 0.00043),\n",
       " ('chouchou', 0.00041),\n",
       " ('chocolat', 0.00036),\n",
       " ('alexandre', 0.00033),\n",
       " ('arthur', 0.00032),\n",
       " ('nicolas', 0.00031),\n",
       " ('doudou', 0.0003),\n",
       " ('juliette', 0.00029),\n",
       " ('motdepasse', 0.00027),\n",
       " ('000000', 0.00021),\n",
       " ('123456789', 0.00018),\n",
       " ('thierry', 0.00017),\n",
       " ('princesse', 0.00016),\n",
       " ('grenouille', 0.00014),\n",
       " ('france', 0.00014),\n",
       " ('amelie', 0.00014),\n",
       " ('anubis', 0.00014),\n",
       " ('louise', 0.00014),\n",
       " ('didier', 0.00013),\n",
       " ('nikita', 0.00013),\n",
       " ('antoine', 0.00012),\n",
       " ('mathis', 0.00012),\n",
       " ('aurore', 0.00011),\n",
       " ('mathieu', 0.00011),\n",
       " ('toulouse', 0.00011),\n",
       " ('mickey', 0.00011),\n",
       " ('fanfan', 0.0001),\n",
       " ('tomato', 0.0001),\n",
       " ('charline', 0.0001),\n",
       " ('canaille', 0.0001),\n",
       " ('megane', 9e-05),\n",
       " ('souris', 9e-05),\n",
       " ('indiana', 8e-05),\n",
       " ('renard', 8e-05),\n",
       " ('jeremy', 8e-05),\n",
       " ('beatrice', 7e-05),\n",
       " ('sylvain', 7e-05),\n",
       " ('biloute', 7e-05),\n",
       " ('poupou', 7e-05),\n",
       " ('cinema', 7e-05),\n",
       " ('liberte', 7e-05),\n",
       " ('pascal', 7e-05),\n",
       " ('novembre', 6e-05),\n",
       " ('mimine', 6e-05),\n",
       " ('jocelyne', 6e-05),\n",
       " ('espagne', 6e-05),\n",
       " ('roland', 6e-05),\n",
       " ('orchidee', 5e-05),\n",
       " ('bichon', 5e-05)]"
      ]
     },
     "execution_count": 5,
     "metadata": {},
     "output_type": "execute_result"
    }
   ],
   "source": [
    "seed_path = 'examples/example_seeds/connectic.fr_seed.npy'\n",
    "seed = np.load(seed_path)\n",
    "\n",
    "X, P = ancestral_sampling(number_of_samples, cpassmodel_uncm, batch_size, hparams, True, seed=seed)\n",
    "show_top_k_passwords(k, X, P)"
   ]
  },
  {
   "cell_type": "markdown",
   "metadata": {},
   "source": [
    "# Load and generate passwords with baseline model (i.e., non-conditional password model) "
   ]
  },
  {
   "cell_type": "code",
   "execution_count": 5,
   "metadata": {},
   "outputs": [
    {
     "name": "stdout",
     "output_type": "stream",
     "text": [
      "WARNING:tensorflow:No training configuration found in the save file, so the model was *not* compiled. Compile it manually.\n"
     ]
    },
    {
     "name": "stderr",
     "output_type": "stream",
     "text": [
      "WARNING:tensorflow:No training configuration found in the save file, so the model was *not* compiled. Compile it manually.\n"
     ]
    }
   ],
   "source": [
    "setup_module = 'confings.baseline'\n",
    "name_run = 'baseline'\n",
    "\n",
    "setup = importlib.import_module(setup_module)\n",
    "hparams_baseline = setup.hparams  \n",
    "\n",
    "input_fn =  hparams_baseline['model_class'].make_get_input_tensors(hparams_baseline)\n",
    "\n",
    "# load pre-trained UNCM\n",
    "_, passmodel_baseline = hparams_baseline['model_class'].import_models(hparams_baseline, name_run)\n",
    "\n",
    "t_baseline = Tester(None, passmodel_baseline, input_fn, hparams_baseline)"
   ]
  },
  {
   "cell_type": "code",
   "execution_count": 6,
   "metadata": {},
   "outputs": [
    {
     "name": "stderr",
     "output_type": "stream",
     "text": [
      "100%|█████████████████████████████████████████████████████████████████████████████████████████████████████████████████████████████████████████████████████████████████████████| 1/1 [00:03<00:00,  3.55s/it]\n"
     ]
    },
    {
     "data": {
      "text/plain": [
       "[('123456', 0.00397),\n",
       " ('super123', 0.00348),\n",
       " ('123456789', 0.00122),\n",
       " ('Groupd2013', 0.00109),\n",
       " ('P3Rat54797', 0.0006),\n",
       " ('qwerty', 0.00049),\n",
       " ('121212', 0.00017),\n",
       " ('abcd1234', 8e-05),\n",
       " ('soleil', 6e-05),\n",
       " ('wolfic', 5e-05),\n",
       " ('letmein', 4e-05),\n",
       " ('salvatore', 3e-05),\n",
       " ('forget', 3e-05),\n",
       " ('hello123', 3e-05),\n",
       " ('696969', 3e-05),\n",
       " ('pokemon', 3e-05),\n",
       " ('lalala', 3e-05),\n",
       " ('1q2w3e4r', 3e-05),\n",
       " ('1q2w3e4r5t', 3e-05),\n",
       " ('clement', 3e-05),\n",
       " ('canard', 2e-05),\n",
       " ('gustavo', 2e-05),\n",
       " ('12345678910', 2e-05),\n",
       " ('garfield', 2e-05),\n",
       " ('cocacola', 2e-05),\n",
       " ('california', 2e-05),\n",
       " ('hahaha', 2e-05),\n",
       " ('cheyenne', 2e-05),\n",
       " ('mattia', 2e-05),\n",
       " ('canada', 2e-05),\n",
       " ('evolution', 2e-05),\n",
       " ('chordie', 2e-05),\n",
       " ('pa55w0rd', 1e-05),\n",
       " ('moomoo', 1e-05),\n",
       " ('cloclo', 1e-05),\n",
       " ('147741', 1e-05),\n",
       " ('profit', 1e-05),\n",
       " ('334455', 1e-05),\n",
       " ('shorty', 1e-05),\n",
       " ('alyssa', 1e-05),\n",
       " ('sister', 1e-05),\n",
       " ('melbourne', 1e-05),\n",
       " ('batata', 1e-05),\n",
       " ('bettyboop', 1e-05),\n",
       " ('gangbang', 1e-05),\n",
       " ('q123456789', 1e-05),\n",
       " ('lovegod', 1e-05),\n",
       " ('spongebob', 1e-05),\n",
       " ('unicorn', 1e-05),\n",
       " ('scarlett', 1e-05)]"
      ]
     },
     "execution_count": 6,
     "metadata": {},
     "output_type": "execute_result"
    }
   ],
   "source": [
    "X, P = ancestral_sampling(number_of_samples, passmodel_baseline, batch_size, hparams_baseline, True, seed=None)\n",
    "show_top_k_passwords(k, X, P)"
   ]
  },
  {
   "cell_type": "code",
   "execution_count": null,
   "metadata": {},
   "outputs": [],
   "source": []
  }
 ],
 "metadata": {
  "kernelspec": {
   "display_name": "Python 3",
   "language": "python",
   "name": "python3"
  },
  "language_info": {
   "codemirror_mode": {
    "name": "ipython",
    "version": 3
   },
   "file_extension": ".py",
   "mimetype": "text/x-python",
   "name": "python",
   "nbconvert_exporter": "python",
   "pygments_lexer": "ipython3",
   "version": "3.7.4"
  }
 },
 "nbformat": 4,
 "nbformat_minor": 4
}
